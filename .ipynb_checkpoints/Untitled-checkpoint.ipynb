{
 "cells": [
  {
   "cell_type": "code",
   "execution_count": 25,
   "id": "b2e3949f",
   "metadata": {},
   "outputs": [
    {
     "name": "stdout",
     "output_type": "stream",
     "text": [
      "[Device 1 SN: 102125 (X-MCC3 (rev 2)) -> Connection 21 (ASCII Serial port: COM3)]\n"
     ]
    }
   ],
   "source": [
    "from zaber_motion import Library\n",
    "from zaber_motion.ascii import Connection\n",
    "from zaber_motion import Units\n",
    "\n",
    "Library.enable_device_db_store()\n",
    "\n",
    "with Connection.open_serial_port(\"COM3\") as connection:\n",
    "    device_list=connection.detect_devices()\n",
    "    print(device_list)\n",
    "    device=device_list[0]\n",
    "    lockstep=device.get_lockstep(1)\n",
    "    axis_3=device.get_axis(3)\n",
    "    #axis_3.move_relative(-1000)\n",
    "    lockstep.move_relative(-2000)"
   ]
  },
  {
   "cell_type": "code",
   "execution_count": null,
   "id": "8bee3850",
   "metadata": {},
   "outputs": [],
   "source": []
  }
 ],
 "metadata": {
  "kernelspec": {
   "display_name": "Python 3 (ipykernel)",
   "language": "python",
   "name": "python3"
  },
  "language_info": {
   "codemirror_mode": {
    "name": "ipython",
    "version": 3
   },
   "file_extension": ".py",
   "mimetype": "text/x-python",
   "name": "python",
   "nbconvert_exporter": "python",
   "pygments_lexer": "ipython3",
   "version": "3.7.9"
  }
 },
 "nbformat": 4,
 "nbformat_minor": 5
}
